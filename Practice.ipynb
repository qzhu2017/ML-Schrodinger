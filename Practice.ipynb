{
 "cells": [
  {
   "cell_type": "markdown",
   "metadata": {},
   "source": [
    "# A practice on ML learning of 1D Schordinger equation\n",
    "\n",
    "This idea is to perform machine learning on the 1D Schordinger equation \n",
    "\n",
    "\\begin{equation}\n",
    "\\bigg[-\\frac{h^2}{2m} \\Delta^2 + V(r)\\bigg] \\Psi(r) = E\\Psi(r)\n",
    "\\end{equation}\n",
    "\n",
    "Suppose we already have a bunch of data regarding {V, E, $\\Psi$(r)} from numerical solutions. We want to test if we can develop a robust model to predict the ground state energy `E` purely from the `V`, without knowing anything about $\\Psi$.\n",
    "\n",
    "## Flowchart\n",
    "- Load the data from numercial solutions, here we provide two dataset `training` and `test` from two independent calculations\n",
    "- Fit the model with neural network regreesor "
   ]
  },
  {
   "cell_type": "code",
   "execution_count": 1,
   "metadata": {},
   "outputs": [],
   "source": [
    "%matplotlib inline"
   ]
  },
  {
   "cell_type": "code",
   "execution_count": null,
   "metadata": {},
   "outputs": [],
   "source": [
    "from sklearn.neural_network import MLPRegressor\n",
    "from sklearn.metrics import mean_absolute_error, r2_score\n",
    "from monty.serialization import loadfn, MontyDecoder,MontyEncoder\n",
    "\n",
    "# load the data\n",
    "X, y, z = [], [], []\n",
    "json_data = loadfn('trainingdata.json', cls=MontyDecoder)\n",
    "for dct in json_data:\n",
    "    X.append(dct['potential'][:,1])\n",
    "    y.append(dct['eigenvalue'][1])\n",
    "    z.append(dct['wavefunction'])\n",
    "    \n",
    "X1, y1, z1 = [], [], []\n",
    "json_data1 = loadfn('testdata.json', cls=MontyDecoder)\n",
    "for dct in json_data1:\n",
    "    X1.append(dct['potential'][:,1])\n",
    "    y1.append(dct['eigenvalue'][1])\n",
    "    z1.append(dct['wavefunction'])"
   ]
  },
  {
   "cell_type": "code",
   "execution_count": null,
   "metadata": {},
   "outputs": [],
   "source": [
    "# Randomly choose and plot the wavefunction & potential\n",
    "\n",
    "from random import choices\n",
    "import matplotlib.pyplot as plt\n",
    "plt.style.use(\"bmh\")\n",
    "import matplotlib \n",
    "matplotlib.rc('xtick', labelsize=16) \n",
    "matplotlib.rc('ytick', labelsize=16) \n",
    "matplotlib.rc('font', size=16)\n",
    "matplotlib.rc('axes', titlesize=16)\n",
    "\n",
    "fig = plt.gcf()\n",
    "fig.set_size_inches(8, 6)\n",
    "\n",
    "ax1 = plt.subplot(211)\n",
    "ids = choices(range(len(X1)), k=3)\n",
    "for i in ids:\n",
    "    data = json_data[i]\n",
    "    eig_str = \"ID: {:4d},   Energy: {:6.2f}\".format(i, y[i])\n",
    "    ax1.plot(z[i], '--', label=eig_str)\n",
    "ax1.set_ylabel('$\\Psi(x)$')\n",
    "ax1.legend(loc=2)\n",
    "plt.setp(ax1.get_xticklabels(), visible=False)\n",
    "\n",
    "ax2 = plt.subplot(212, sharex=ax1)\n",
    "for i in ids:\n",
    "    ax2.plot(X[i], 'b-')\n",
    "ax2.set_ylabel('$V(x)$')\n",
    "ax2.set_xlabel('$x$')\n",
    "#ax2.set_ylim([0, 2*max(eigs)])\n",
    "plt.tight_layout()\n",
    "plt.show()"
   ]
  },
  {
   "cell_type": "code",
   "execution_count": null,
   "metadata": {},
   "outputs": [],
   "source": [
    "# Processing the data\n",
    "from sklearn.preprocessing import StandardScaler  \n",
    "scaler = StandardScaler()  \n",
    "scaler.fit(X)  \n",
    "X_0 = scaler.transform(X)  \n",
    "X1_0 = scaler.transform(X1)  "
   ]
  },
  {
   "cell_type": "code",
   "execution_count": null,
   "metadata": {},
   "outputs": [],
   "source": [
    "# Fitting\n",
    "clf = MLPRegressor(hidden_layer_sizes=(60,3), max_iter=1500, random_state=1)\n",
    "clf.fit(X_0, y)"
   ]
  },
  {
   "cell_type": "code",
   "execution_count": null,
   "metadata": {},
   "outputs": [],
   "source": [
    "# Examing the performance\n",
    "r2_train = r2_score(y, clf.predict(X_0))\n",
    "r2_test = r2_score(y1, clf.predict(X1_0))\n",
    "mae_train = mean_absolute_error(y, clf.predict(X_0))\n",
    "mae_test = mean_absolute_error(y1, clf.predict(X1_0))\n",
    "print('Training     r^2: {:.4f},   mae: {:8.4f}'.format(r2_train, mae_train))\n",
    "print('Test         r^2: {:.4f},   mae: {:8.4f}'.format(r2_test, mae_test))"
   ]
  },
  {
   "cell_type": "code",
   "execution_count": null,
   "metadata": {},
   "outputs": [],
   "source": [
    "# Scatter plot\n",
    "fig = plt.gcf()\n",
    "fig.set_size_inches(8, 6)\n",
    "plt.scatter(y, clf.predict(X_0), label='train')\n",
    "plt.scatter(y1, clf.predict(X1_0), label='test')\n",
    "plt.xlabel('From numerical solver')\n",
    "plt.ylabel('From NN prediction')\n",
    "plt.legend()\n",
    "plt.show()"
   ]
  },
  {
   "cell_type": "code",
   "execution_count": null,
   "metadata": {},
   "outputs": [],
   "source": []
  }
 ],
 "metadata": {
  "kernelspec": {
   "display_name": "Python 3",
   "language": "python",
   "name": "python3"
  },
  "language_info": {
   "codemirror_mode": {
    "name": "ipython",
    "version": 3
   },
   "file_extension": ".py",
   "mimetype": "text/x-python",
   "name": "python",
   "nbconvert_exporter": "python",
   "pygments_lexer": "ipython3",
   "version": "3.6.8"
  }
 },
 "nbformat": 4,
 "nbformat_minor": 2
}
